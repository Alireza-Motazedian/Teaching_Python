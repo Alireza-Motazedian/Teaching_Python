{
  "nbformat": 4,
  "nbformat_minor": 0,
  "metadata": {
    "colab": {
      "provenance": [],
      "toc_visible": true
    },
    "kernelspec": {
      "name": "python3",
      "display_name": "Python 3"
    },
    "language_info": {
      "name": "python"
    }
  },
  "cells": [
    {
      "cell_type": "markdown",
      "source": [
        "# Table of contents\n",
        "```\n",
        "1. Basic Data Types\n",
        "2. Variables\n",
        "    2.1.  Strings\n",
        "    2.2. Integer, flout\n",
        "3. Operators and Expressions\n",
        "4. List, Tuple, Set\n",
        "5. Dictionary\n",
        "6. Conditions\n",
        "7. Loops\n",
        "8. Functions\n",
        "9. Basic Input, Output, and String Formatting in Python\n",
        "10. Class\n",
        "11. Objects\n",
        "```"
      ],
      "metadata": {
        "id": "oU-EFIQhe7ww"
      }
    },
    {
      "cell_type": "code",
      "source": [],
      "metadata": {
        "id": "aJ9XkUQpfB1r"
      },
      "execution_count": null,
      "outputs": []
    },
    {
      "cell_type": "markdown",
      "source": [
        "# 2.&nbsp;Variables"
      ],
      "metadata": {
        "id": "FRuAdFeBioZK"
      }
    },
    {
      "cell_type": "code",
      "source": [],
      "metadata": {
        "id": "WbfwEqGui4gZ"
      },
      "execution_count": null,
      "outputs": []
    },
    {
      "cell_type": "markdown",
      "source": [],
      "metadata": {
        "id": "TRc5_2zDi5CK"
      }
    }
  ]
}